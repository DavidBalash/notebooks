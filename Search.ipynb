{
 "cells": [
  {
   "cell_type": "markdown",
   "id": "226a35b0",
   "metadata": {},
   "source": [
    "# Searching an Array\n",
    "\n",
    "___\n",
    "\n",
    "## Objectives\n",
    "\n",
    "The goal of this notebook is to introduce two search algorithms that we can use to find a target element in an array. One algorithm works for both sorted and unsorted arrays, the other works only on sorted arrays but provides better peformance. \n",
    "\n",
    "___\n",
    "\n",
    "### Table of Contents\n",
    "\n",
    "* [Linear Search](#linear_search)\n",
    "    * [Pseudocode](#linear_search_pseudocode)\n",
    "    * [Exercise 1](#exercise1)\n",
    "    * [Performance](#linear_search_performance)\n",
    "    * [Linear Complexity](#linear_complexity)\n",
    "    \n",
    "* [Binary Search](#binary_search)\n",
    "    * [Pseudocode](#binary_search_pseudocode)\n",
    "    * [Exercise 2](#exercise2)\n",
    "    * [Performance](#binary_search_performance)\n",
    "    * [Logarithmic Complexity](#logarithmic_complexity)\n",
    "    \n",
    "* [Visualizing Orders of Growth](#visualize)\n",
    "    \n",
    "* [Bonus Exercise](#bonus_exercise)\n",
    "\n",
    "___"
   ]
  },
  {
   "cell_type": "markdown",
   "id": "8b22ed42",
   "metadata": {},
   "source": [
    "___\n",
    "## Linear Search <a class=\"anchor\" id=\"linear_search\"></a>\n",
    "\n",
    "Linear search is an algorithm we can use to find a target element in an __unsorted__ array.\n",
    "\n",
    "In linear search, the idea of the algorithm is to iterate across the array from left to right, searching for a specified element.\n",
    "\n",
    "But, what about if we're looking for an element that is not in our array?\n",
    "\n",
    "Does linear search still work? \n",
    "\n",
    "Yes, we simply return that the target element was not found."
   ]
  },
  {
   "cell_type": "markdown",
   "id": "5569b4bb",
   "metadata": {},
   "source": [
    "### In pseudocode: <a class=\"anchor\" id=\"linear_search_pseudocode\"></a>\n",
    "```\n",
    "Repeat, starting at the first element:\n",
    "\tIf the first element is what you're looking for, stop\n",
    "\tOtherwise, move to the next element\n",
    "```"
   ]
  },
  {
   "cell_type": "markdown",
   "id": "7cfe1e22",
   "metadata": {},
   "source": [
    "# Exercise 1:  Add your code to the cell below: <a class=\"anchor\" id=\"exercise1\"></a>"
   ]
  },
  {
   "cell_type": "code",
   "execution_count": 3,
   "id": "3576cc0a",
   "metadata": {},
   "outputs": [],
   "source": [
    "# Linear Search: Search for a given number in an unsorted array.\n",
    "# Inputs: An unsorted array of numbers, and the target number to be found.\n",
    "# Outputs: The index location of the number in the sorted array.\n",
    "def linear_search(unsorted_array, target):\n",
    "    location = None\n",
    "    \n",
    "    ### YOUR CODE GOES HERE! ###\n",
    "            \n",
    "    return location"
   ]
  },
  {
   "cell_type": "code",
   "execution_count": null,
   "id": "e7934143",
   "metadata": {},
   "outputs": [],
   "source": [
    "import numpy as np\n",
    "\n",
    "# Create an unsorted array of numbers.\n",
    "unsorted_array = np.array([1, 99, 4, 167, 12, 15, 33, 20, 44, 24, 29, 16, 42, 67, 5])\n",
    "\n",
    "# Search for a few numbers in the unsorted array.\n",
    "print(linear_search(unsorted_array, 99))\n",
    "print(linear_search(unsorted_array, 67))\n",
    "print(linear_search(unsorted_array, 14))"
   ]
  },
  {
   "cell_type": "markdown",
   "id": "c66d01ac",
   "metadata": {},
   "source": [
    "### Performance <a class=\"anchor\" id=\"linear_search_performance\"></a>\n",
    "\n",
    "\n",
    "__Best-case scenario__: The target element is the first element of the array, so we can stop looking immediately after we start. \n",
    "\n",
    "__Worst-case scenario__: We have to look through the entire array of n elements, either because the target element is the last element of the array or doesn't exist in the array at all. Thus the running time is proportional to the size of the array. "
   ]
  },
  {
   "cell_type": "markdown",
   "id": "03251bc5",
   "metadata": {},
   "source": [
    "### Linear Complexity $O(n)$ <a class=\"anchor\" id=\"linear_complexity\"></a>\n",
    "\n",
    "Programs that are based on a single `for` loop or algorithms that spend a costant amount of time processing each piece of input data. These programs are quite common and the order of growth is said to be ***linear*** as its running time is proportional to $n$."
   ]
  },
  {
   "cell_type": "markdown",
   "id": "792c2426",
   "metadata": {},
   "source": [
    "We can visualize linear growth by plotting the number of inputs on x-axis and the number of steps on y-axis as shown below.  Run the cell below."
   ]
  },
  {
   "cell_type": "code",
   "execution_count": 25,
   "id": "3d24fec0",
   "metadata": {
    "scrolled": true
   },
   "outputs": [
    {
     "data": {
      "image/png": "[encoded data removed]",
      "text/plain": [
       "<Figure size 432x288 with 1 Axes>"
      ]
     },
     "metadata": {
      "needs_background": "light"
     },
     "output_type": "display_data"
    }
   ],
   "source": [
    "import matplotlib.pyplot as plt\n",
    "import numpy as np\n",
    "\n",
    "figure, axes = plt.subplots()\n",
    "\n",
    "# Evenly spaced values within a given interval.\n",
    "number_of_inputs = np.arange(start=1, stop=10000)\n",
    "\n",
    "# Linear complexity O(n)\n",
    "number_of_steps = [n for n in number_of_inputs]\n",
    "\n",
    "# Plot the number of steps for each number of inputs.\n",
    "axes.plot(number_of_inputs, number_of_steps)\n",
    "axes.set_xlim(0, 10000)\n",
    "axes.set_ylim(0, 10000)\n",
    "axes.grid(True)\n",
    "plt.xlabel('Number of Inputs')\n",
    "plt.ylabel('Number of Steps')\n",
    "plt.title('Linear Complexity $O(n)$')\n",
    "plt.show()"
   ]
  },
  {
   "cell_type": "markdown",
   "id": "6576a18b",
   "metadata": {},
   "source": [
    "___\n",
    "## Binary Search <a class=\"anchor\" id=\"binary_search\"></a>\n",
    "\n",
    "\n",
    "Binary search is also an algorithm we can use to find a target element inside of an array. \n",
    "\n",
    "Unlike linear search, it requires the special condition that the array be __sorted__ beforehand, but it's so much more efficient if that condition is met. \n",
    "\n",
    "So, what's the idea here?  It's __divide and conquer__. \n",
    "\n",
    "We want to reduce the size of the search area by half each time in order to find a target number. \n",
    "\n",
    "This is where that condition comes into play, we can only leverage the power of eliminating half of the elements without even looking at them if the array is sorted. If the array is completely unsorted we can't just discard half of the elements, because we don't know what we're discarding. But if the array is sorted we can do that, because we know that everything to the left of where we currently are must be lower than the value we're currently at. And everything to the right of where we are must greater than the value we're currently looking at. "
   ]
  },
  {
   "cell_type": "markdown",
   "id": "3ff73e75",
   "metadata": {},
   "source": [
    "### In pseudocode: <a class=\"anchor\" id=\"binary_search_pseudocode\"></a>\n",
    "\n",
    "```\n",
    "Repeat until the (sub)array is of size 0:\n",
    "\tCalculate the middle point of the current (sub)array\n",
    "\tIf the target is at the middle, stop.\n",
    "\tOtherwise, if the target is less than what's at the middle, repeat, \n",
    "\tchanging the end point to be just to the left of the middle.\n",
    "\tOtherwise, if the target is greater than what's at the middle, repeat,\n",
    "\tchanging the start point to be just to the right of the middle.\n",
    "```"
   ]
  },
  {
   "cell_type": "markdown",
   "id": "aa987abf",
   "metadata": {},
   "source": [
    "# Exercise 2:  Add your code to the cell below: <a class=\"anchor\" id=\"exercise2\"></a>"
   ]
  },
  {
   "cell_type": "code",
   "execution_count": 4,
   "id": "0f6d8ed5",
   "metadata": {},
   "outputs": [],
   "source": [
    "# Binary Search (Iterative):  Determine whether a number is in the sorted array and return its location.\n",
    "#\n",
    "# Inputs:  Sorted Array (nondecreasing order), target number to search for.\n",
    "# Outputs: The index location of the number in the sorted array.\n",
    "def binary_search(sorted_array, target):\n",
    "    location = None\n",
    "    \n",
    "    ### YOUR CODE GOES HERE! ###\n",
    "    \n",
    "    return location"
   ]
  },
  {
   "cell_type": "code",
   "execution_count": null,
   "id": "a6b0e6cb",
   "metadata": {},
   "outputs": [],
   "source": [
    "import numpy as np\n",
    "\n",
    "# Create a sorted array of numbers.\n",
    "sorted_array = np.array([1, 3, 4, 9, 12, 15, 18, 20, 21, 24, 29, 33, 42, 45, 46, 47, 50, 51, 56, 63, 64, 67])\n",
    "\n",
    "# Search for a few numbers.\n",
    "print(binary_search(sorted_array, 4))\n",
    "print(binary_search(sorted_array, 64))\n",
    "print(binary_search(sorted_array, 5))"
   ]
  },
  {
   "cell_type": "markdown",
   "id": "bb98e964",
   "metadata": {},
   "source": [
    "### Performance <a class=\"anchor\" id=\"binary_search_performance\"></a>\n",
    "\n",
    "\n",
    "So, what's the worst case scenario with binary search?\n",
    "\n",
    "__Best-case scenario__: The target element is the first element of the array, so we can stop looking immediately after we start. \n",
    "\n",
    "__Worst-case scenario__: With each iteration the binary search function is dividing the input in half, thus performing the inverse operation of exponentiation. \n",
    "\n",
    "![Binary Search Complexity](binary_search_complexity.svg)\n",
    "\n"
   ]
  },
  {
   "cell_type": "markdown",
   "id": "ad2614d1",
   "metadata": {},
   "source": [
    "### Logarithmic Complexity $O(log~n)$ <a class=\"anchor\" id=\"logarithmic_complexity\"></a>\n",
    "\n",
    "An algorithm whose running time's order of growth is ***logarithmic*** is barely slower than a constant-time algorithm. The classic example of an algorithm whose running time is logarithmic in the problem size is binary search. The base of the logarithm is not relevant with respect to the order of growth. "
   ]
  },
  {
   "cell_type": "markdown",
   "id": "b0402cf7",
   "metadata": {},
   "source": [
    "We can visualize logarithmic growth by plotting the number of inputs on x-axis and the number of steps on y-axis as shown below.  Run the cell below."
   ]
  },
  {
   "cell_type": "code",
   "execution_count": 26,
   "id": "4230e7de",
   "metadata": {},
   "outputs": [
    {
     "data": {
      "image/png": "[encoded data removed]",
      "text/plain": [
       "<Figure size 432x288 with 1 Axes>"
      ]
     },
     "metadata": {
      "needs_background": "light"
     },
     "output_type": "display_data"
    }
   ],
   "source": [
    "import matplotlib.pyplot as plt\n",
    "import numpy as np\n",
    "\n",
    "figure, axes = plt.subplots()\n",
    "\n",
    "# Evenly spaced values within a given interval.\n",
    "number_of_inputs = np.arange(start=1, stop=10000)\n",
    "\n",
    "# Logarithmic complexity O(log n)\n",
    "number_of_steps = np.log2(number_of_inputs) \n",
    "\n",
    "# Plot the number of steps for each number of inputs.\n",
    "axes.plot(number_of_inputs, number_of_steps)\n",
    "axes.set_xlim(0, 10000)\n",
    "axes.set_ylim(0, 100)\n",
    "axes.grid(True)\n",
    "plt.xlabel('Number of Inputs')\n",
    "plt.ylabel('Number of Steps')\n",
    "plt.title('Logarithmic Complexity $O(log~n)$')\n",
    "plt.show()"
   ]
  },
  {
   "cell_type": "markdown",
   "id": "b9903800",
   "metadata": {},
   "source": [
    "___\n",
    "## Visualizing Orders of Growth <a class=\"anchor\" id=\"visualize\"></a>\n",
    "\n",
    "We can visualize the orders of growth together on a single graph by plotting the number of inputs on x-axis and the number of steps on y-axis as shown below.  The graph is a log-log graph, which shows the number inputs on the x-axis in log base 10, and the number of steps on the y-axis also in log base 10. Run the cell below."
   ]
  },
  {
   "cell_type": "code",
   "execution_count": 29,
   "id": "df13d038",
   "metadata": {},
   "outputs": [
    {
     "data": {
      "image/png": "[encoded data removed]",
      "text/plain": [
       "<Figure size 1440x720 with 1 Axes>"
      ]
     },
     "metadata": {
      "needs_background": "light"
     },
     "output_type": "display_data"
    }
   ],
   "source": [
    "import matplotlib.pyplot as plt\n",
    "import numpy as np\n",
    "\n",
    "# Prepare to plot the figure and axes.\n",
    "figure, axes = plt.subplots()\n",
    "\n",
    "# Return numbers spaced evenly on a log scale.\n",
    "number_of_inputs = np.logspace(start=0, stop=15, base=10, num=100)\n",
    "\n",
    "# Linear O(n)\n",
    "number_of_steps = [n for n in number_of_inputs]\n",
    "axes.loglog(number_of_inputs, number_of_steps)\n",
    "\n",
    "# Logarithmic O(log n)\n",
    "number_of_steps = np.log(number_of_inputs) \n",
    "axes.loglog(number_of_inputs, number_of_steps)\n",
    "\n",
    "axes.set_xlim(1, 1e15)\n",
    "axes.set_ylim(1, 1e44)\n",
    "axes.grid(True)\n",
    "\n",
    "figure.set_figwidth(20)\n",
    "figure.set_figheight(10)\n",
    "figure.legend(['Linear $O(n)$', 'Logarithmic $O(log~n)$'], loc='upper center', ncol=4)\n",
    "\n",
    "plt.xlabel('Number of Inputs')\n",
    "plt.ylabel('Number of Steps')\n",
    "\n",
    "plt.show()"
   ]
  },
  {
   "cell_type": "markdown",
   "id": "13e6cf8b",
   "metadata": {},
   "source": [
    "| Complexity Class | Order of Growth| n = 10 | n = 100 | n = 1000 | n = 1000000 |\n",
    "| :---: | :---: |---: | ---: | ---: | ---: |\n",
    "| Logarithmic | $O(log~n)$ | 1 | 2 | 3 | 6 |\n",
    "| Linear| $O(n)$ | 10 | 100 | 1000 | 1000000 |"
   ]
  },
  {
   "cell_type": "markdown",
   "id": "d062b260",
   "metadata": {},
   "source": [
    "# Bonus Exercise:  Add your code to the cell below: <a class=\"anchor\" id=\"bonus_exercise\"></a>"
   ]
  },
  {
   "cell_type": "code",
   "execution_count": 41,
   "id": "28c549c6",
   "metadata": {},
   "outputs": [],
   "source": [
    "# Binary Search (Recursive):  Determine whether a number is in the sorted array and return its location.\n",
    "#\n",
    "# Inputs:  Sorted Array (nondecreasing order), the low index, the high index, target number to search for.\n",
    "# Outputs: The index location of the number in the sorted array.\n",
    "def binary_search(sorted_array, low, high, target):\n",
    " \n",
    "    ### YOUR CODE GOES HERE! ###\n"
   ]
  },
  {
   "cell_type": "code",
   "execution_count": null,
   "id": "548b13b4",
   "metadata": {},
   "outputs": [],
   "source": [
    "import numpy as np\n",
    "\n",
    "# Create a sorted array of numbers.\n",
    "sorted_array = np.array([1, 3, 4, 9, 12, 15, 18, 20, 21, 24, 29, 33, 42, 45, 46, 47, 50, 51, 56, 63, 64, 67])\n",
    "\n",
    "# Search for a few numbers.\n",
    "print(binary_search(sorted_array, 0, len(sorted_array) - 1, 4))\n",
    "print(binary_search(sorted_array, 0, len(sorted_array) - 1, 64))\n",
    "print(binary_search(sorted_array, 0, len(sorted_array) - 1, 5))"
   ]
  }
 ],
 "metadata": {
  "kernelspec": {
   "display_name": "Python 3 (ipykernel)",
   "language": "python",
   "name": "python3"
  },
  "language_info": {
   "codemirror_mode": {
    "name": "ipython",
    "version": 3
   },
   "file_extension": ".py",
   "mimetype": "text/x-python",
   "name": "python",
   "nbconvert_exporter": "python",
   "pygments_lexer": "ipython3",
   "version": "3.9.12"
  }
 },
 "nbformat": 4,
 "nbformat_minor": 5
}
